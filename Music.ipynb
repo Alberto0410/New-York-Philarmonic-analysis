{
 "cells": [
  {
   "cell_type": "markdown",
   "metadata": {},
   "source": [
    "# Importando librerias"
   ]
  },
  {
   "cell_type": "code",
   "execution_count": 3,
   "metadata": {},
   "outputs": [],
   "source": [
    "import pandas as pd\n",
    "import plotly.express as px \n",
    "import plotly.graph_objects as go"
   ]
  },
  {
   "cell_type": "markdown",
   "metadata": {},
   "source": [
    "# Limpiando\n",
    "[Dataset](https://drive.google.com/file/d/15BMOwWdVQKsK8lBibax0_ks5K6HXxdFz/view?usp=sharing)"
   ]
  },
  {
   "cell_type": "code",
   "execution_count": 4,
   "metadata": {},
   "outputs": [
    {
     "name": "stderr",
     "output_type": "stream",
     "text": [
      "e:\\Anaconda\\lib\\site-packages\\IPython\\core\\interactiveshell.py:3071: DtypeWarning: Columns (8) have mixed types.Specify dtype option on import or set low_memory=False.\n",
      "  has_raised = await self.run_ast_nodes(code_ast.body, cell_name,\n"
     ]
    },
    {
     "data": {
      "text/html": [
       "<div>\n",
       "<style scoped>\n",
       "    .dataframe tbody tr th:only-of-type {\n",
       "        vertical-align: middle;\n",
       "    }\n",
       "\n",
       "    .dataframe tbody tr th {\n",
       "        vertical-align: top;\n",
       "    }\n",
       "\n",
       "    .dataframe thead th {\n",
       "        text-align: right;\n",
       "    }\n",
       "</style>\n",
       "<table border=\"1\" class=\"dataframe\">\n",
       "  <thead>\n",
       "    <tr style=\"text-align: right;\">\n",
       "      <th></th>\n",
       "      <th>Date</th>\n",
       "      <th>Location</th>\n",
       "      <th>Time</th>\n",
       "      <th>Venue</th>\n",
       "      <th>eventType</th>\n",
       "      <th>id</th>\n",
       "      <th>composerName</th>\n",
       "      <th>conductorName</th>\n",
       "      <th>interval</th>\n",
       "      <th>movement</th>\n",
       "      <th>workTitle</th>\n",
       "      <th>soloistInstrument</th>\n",
       "      <th>soloistName</th>\n",
       "      <th>soloistRoles</th>\n",
       "      <th>season</th>\n",
       "      <th>programID</th>\n",
       "      <th>orchestra</th>\n",
       "    </tr>\n",
       "  </thead>\n",
       "  <tbody>\n",
       "    <tr>\n",
       "      <th>0</th>\n",
       "      <td>1842-12-07T05:00:00Z</td>\n",
       "      <td>Manhattan, NY</td>\n",
       "      <td>8:00PM</td>\n",
       "      <td>Apollo Rooms</td>\n",
       "      <td>Subscription Season</td>\n",
       "      <td>38e072a7-8fc9-4f9a-8eac-3957905c0002</td>\n",
       "      <td>Beethoven,  Ludwig  van</td>\n",
       "      <td>Hill, Ureli Corelli</td>\n",
       "      <td>NaN</td>\n",
       "      <td>NaN</td>\n",
       "      <td>SYMPHONY NO. 5 IN C MINOR, OP.67</td>\n",
       "      <td>Soprano</td>\n",
       "      <td>Otto, Antoinette</td>\n",
       "      <td>S</td>\n",
       "      <td>1842-43</td>\n",
       "      <td>3853.0</td>\n",
       "      <td>New York Philharmonic</td>\n",
       "    </tr>\n",
       "    <tr>\n",
       "      <th>1</th>\n",
       "      <td>1842-12-07T05:00:00Z</td>\n",
       "      <td>Manhattan, NY</td>\n",
       "      <td>8:00PM</td>\n",
       "      <td>Apollo Rooms</td>\n",
       "      <td>Subscription Season</td>\n",
       "      <td>38e072a7-8fc9-4f9a-8eac-3957905c0002</td>\n",
       "      <td>Beethoven,  Ludwig  van</td>\n",
       "      <td>Hill, Ureli Corelli</td>\n",
       "      <td>NaN</td>\n",
       "      <td>NaN</td>\n",
       "      <td>SYMPHONY NO. 5 IN C MINOR, OP.67</td>\n",
       "      <td>Piano</td>\n",
       "      <td>Scharfenberg, William</td>\n",
       "      <td>A</td>\n",
       "      <td>1842-43</td>\n",
       "      <td>3853.0</td>\n",
       "      <td>New York Philharmonic</td>\n",
       "    </tr>\n",
       "  </tbody>\n",
       "</table>\n",
       "</div>"
      ],
      "text/plain": [
       "                   Date       Location    Time         Venue  \\\n",
       "0  1842-12-07T05:00:00Z  Manhattan, NY  8:00PM  Apollo Rooms   \n",
       "1  1842-12-07T05:00:00Z  Manhattan, NY  8:00PM  Apollo Rooms   \n",
       "\n",
       "             eventType                                    id  \\\n",
       "0  Subscription Season  38e072a7-8fc9-4f9a-8eac-3957905c0002   \n",
       "1  Subscription Season  38e072a7-8fc9-4f9a-8eac-3957905c0002   \n",
       "\n",
       "              composerName        conductorName interval movement  \\\n",
       "0  Beethoven,  Ludwig  van  Hill, Ureli Corelli      NaN      NaN   \n",
       "1  Beethoven,  Ludwig  van  Hill, Ureli Corelli      NaN      NaN   \n",
       "\n",
       "                          workTitle soloistInstrument            soloistName  \\\n",
       "0  SYMPHONY NO. 5 IN C MINOR, OP.67           Soprano       Otto, Antoinette   \n",
       "1  SYMPHONY NO. 5 IN C MINOR, OP.67             Piano  Scharfenberg, William   \n",
       "\n",
       "  soloistRoles   season  programID              orchestra  \n",
       "0            S  1842-43     3853.0  New York Philharmonic  \n",
       "1            A  1842-43     3853.0  New York Philharmonic  "
      ]
     },
     "execution_count": 4,
     "metadata": {},
     "output_type": "execute_result"
    }
   ],
   "source": [
    "path = 'C:/Users/PC/Desktop/Proyectos Personales/Music/ny_phil.csv'\n",
    "ny_phil = pd.read_csv(path)\n",
    "ny_phil.head(2)"
   ]
  },
  {
   "cell_type": "code",
   "execution_count": 5,
   "metadata": {},
   "outputs": [
    {
     "name": "stdout",
     "output_type": "stream",
     "text": [
      "<class 'pandas.core.frame.DataFrame'>\n",
      "RangeIndex: 806179 entries, 0 to 806178\n",
      "Data columns (total 16 columns):\n",
      " #   Column             Non-Null Count   Dtype  \n",
      "---  ------             --------------   -----  \n",
      " 0   Date               806179 non-null  object \n",
      " 1   Location           806179 non-null  object \n",
      " 2   Time               806179 non-null  object \n",
      " 3   Venue              806179 non-null  object \n",
      " 4   eventType          806179 non-null  object \n",
      " 5   id                 806179 non-null  object \n",
      " 6   composerName       737731 non-null  object \n",
      " 7   conductorName      570894 non-null  object \n",
      " 8   movement           340598 non-null  object \n",
      " 9   workTitle          737731 non-null  object \n",
      " 10  soloistInstrument  779437 non-null  object \n",
      " 11  soloistName        780096 non-null  object \n",
      " 12  soloistRoles       779834 non-null  object \n",
      " 13  season             781218 non-null  object \n",
      " 14  programID          781218 non-null  float64\n",
      " 15  orchestra          781218 non-null  object \n",
      "dtypes: float64(1), object(15)\n",
      "memory usage: 98.4+ MB\n"
     ]
    }
   ],
   "source": [
    "#Dado que no nos es relevante la columna 'inverval', la eliminamos\n",
    "ny_phil.drop('interval', axis = 1, inplace = True)\n",
    "ny_phil.info()"
   ]
  },
  {
   "cell_type": "code",
   "execution_count": 6,
   "metadata": {},
   "outputs": [
    {
     "data": {
      "text/html": [
       "<div>\n",
       "<style scoped>\n",
       "    .dataframe tbody tr th:only-of-type {\n",
       "        vertical-align: middle;\n",
       "    }\n",
       "\n",
       "    .dataframe tbody tr th {\n",
       "        vertical-align: top;\n",
       "    }\n",
       "\n",
       "    .dataframe thead th {\n",
       "        text-align: right;\n",
       "    }\n",
       "</style>\n",
       "<table border=\"1\" class=\"dataframe\">\n",
       "  <thead>\n",
       "    <tr style=\"text-align: right;\">\n",
       "      <th></th>\n",
       "      <th>Date</th>\n",
       "      <th>Location</th>\n",
       "      <th>Time</th>\n",
       "      <th>Venue</th>\n",
       "      <th>eventType</th>\n",
       "      <th>id</th>\n",
       "      <th>composerName</th>\n",
       "      <th>conductorName</th>\n",
       "      <th>movement</th>\n",
       "      <th>workTitle</th>\n",
       "      <th>soloistInstrument</th>\n",
       "      <th>soloistName</th>\n",
       "      <th>soloistRoles</th>\n",
       "      <th>season</th>\n",
       "      <th>programID</th>\n",
       "      <th>orchestra</th>\n",
       "    </tr>\n",
       "  </thead>\n",
       "  <tbody>\n",
       "    <tr>\n",
       "      <th>0</th>\n",
       "      <td>1842-12-07T05:00:00Z</td>\n",
       "      <td>Manhattan, NY</td>\n",
       "      <td>8:00PM</td>\n",
       "      <td>Apollo Rooms</td>\n",
       "      <td>Subscription Season</td>\n",
       "      <td>38e072a7-8fc9-4f9a-8eac-3957905c0002</td>\n",
       "      <td>Beethoven,  Ludwig  van</td>\n",
       "      <td>Hill, Ureli Corelli</td>\n",
       "      <td>0</td>\n",
       "      <td>SYMPHONY NO. 5 IN C MINOR, OP.67</td>\n",
       "      <td>Soprano</td>\n",
       "      <td>Otto, Antoinette</td>\n",
       "      <td>S</td>\n",
       "      <td>1842-43</td>\n",
       "      <td>3853.0</td>\n",
       "      <td>New York Philharmonic</td>\n",
       "    </tr>\n",
       "    <tr>\n",
       "      <th>1</th>\n",
       "      <td>1842-12-07T05:00:00Z</td>\n",
       "      <td>Manhattan, NY</td>\n",
       "      <td>8:00PM</td>\n",
       "      <td>Apollo Rooms</td>\n",
       "      <td>Subscription Season</td>\n",
       "      <td>38e072a7-8fc9-4f9a-8eac-3957905c0002</td>\n",
       "      <td>Beethoven,  Ludwig  van</td>\n",
       "      <td>Hill, Ureli Corelli</td>\n",
       "      <td>0</td>\n",
       "      <td>SYMPHONY NO. 5 IN C MINOR, OP.67</td>\n",
       "      <td>Piano</td>\n",
       "      <td>Scharfenberg, William</td>\n",
       "      <td>A</td>\n",
       "      <td>1842-43</td>\n",
       "      <td>3853.0</td>\n",
       "      <td>New York Philharmonic</td>\n",
       "    </tr>\n",
       "  </tbody>\n",
       "</table>\n",
       "</div>"
      ],
      "text/plain": [
       "                   Date       Location    Time         Venue  \\\n",
       "0  1842-12-07T05:00:00Z  Manhattan, NY  8:00PM  Apollo Rooms   \n",
       "1  1842-12-07T05:00:00Z  Manhattan, NY  8:00PM  Apollo Rooms   \n",
       "\n",
       "             eventType                                    id  \\\n",
       "0  Subscription Season  38e072a7-8fc9-4f9a-8eac-3957905c0002   \n",
       "1  Subscription Season  38e072a7-8fc9-4f9a-8eac-3957905c0002   \n",
       "\n",
       "              composerName        conductorName movement  \\\n",
       "0  Beethoven,  Ludwig  van  Hill, Ureli Corelli        0   \n",
       "1  Beethoven,  Ludwig  van  Hill, Ureli Corelli        0   \n",
       "\n",
       "                          workTitle soloistInstrument            soloistName  \\\n",
       "0  SYMPHONY NO. 5 IN C MINOR, OP.67           Soprano       Otto, Antoinette   \n",
       "1  SYMPHONY NO. 5 IN C MINOR, OP.67             Piano  Scharfenberg, William   \n",
       "\n",
       "  soloistRoles   season  programID              orchestra  \n",
       "0            S  1842-43     3853.0  New York Philharmonic  \n",
       "1            A  1842-43     3853.0  New York Philharmonic  "
      ]
     },
     "execution_count": 6,
     "metadata": {},
     "output_type": "execute_result"
    }
   ],
   "source": [
    "#Los compositores y directores con NaN los llenamos con un 'Desconocido'\n",
    "#Haremos lo mismo con los titulos de las obras y las orquestas con NaN\n",
    "to_unknown = ['composerName', 'conductorName', 'workTitle', 'orchestra']\n",
    "ny_phil[to_unknown] = ny_phil[to_unknown].fillna('Unknown')\n",
    "\n",
    "#Si la obra consta de un solo movimiento se llenara como 0\n",
    "ny_phil['movement'] = ny_phil['movement'].fillna('0')\n",
    "\n",
    "to_none = ['soloistInstrument', 'soloistName', 'soloistRoles']\n",
    "#Si no hay solita entonces lo llenamos con None\n",
    "ny_phil[to_none] = ny_phil[to_none].fillna('None')\n",
    "\n",
    "#Finalmente vamos a eliminar \n",
    "ny_phil.dropna(inplace = True)\n",
    "\n",
    "ny_phil.head(2)"
   ]
  },
  {
   "cell_type": "code",
   "execution_count": 7,
   "metadata": {},
   "outputs": [
    {
     "data": {
      "text/plain": [
       "array(['Soprano', 'Piano', 'Violin', 'Viola', 'Cello', 'Contrabass',\n",
       "       'Tenor', 'Flute', 'Clarinet', 'Bassoon', 'French Horn', 'None',\n",
       "       'Oboe', 'Vocalist', 'Harp', 'Cornet', 'Alto', 'Bass',\n",
       "       'Mens Chorus', 'Trumpet', 'Saxhorn', 'Womens Chorus', 'Baritone',\n",
       "       'Chorus', 'Mezzo-Soprano', 'Organ', 'Trombone', 'Contralto',\n",
       "       'Speaker', 'SATB Chorus', 'Narrator', 'Boys Choir', 'Reader',\n",
       "       'Bass Clarinet', 'Ensemble', 'Other', 'Orchestra', 'Vocal Group',\n",
       "       ' ', 'Elementary Chorus', 'Advanced Chorus', 'Piccolo',\n",
       "       'Sing-Along', \"Viola d'amore\", 'English Horn', 'Harpsichord',\n",
       "       'Dancer', 'Clavier', 'Viola tenore', 'Reciter',\n",
       "       'Unspecified Voice', \"Children's Chorus\", 'Vocal Quartet',\n",
       "       'Harmonium', 'String Quartet', 'Solo Voice', 'Duo-Art Piano',\n",
       "       'Trombone Choir', 'Actor', 'Drum', 'Xylophone', 'Folk Singer',\n",
       "       'Conductor', 'Treble [Boy soprano]', 'Tuba', 'Piano trio',\n",
       "       'E-Flat Clarinet', 'Timpani', 'Percussion',\n",
       "       \"Women's Chorus ad lib\", 'Contrabassoon', \"Oboe d'Amore\",\n",
       "       'Choreographer', 'Flugelhorn', 'Cembalo', 'Bass-Baritone',\n",
       "       'Theremin', 'Quinton', 'Viola da Gamba', 'Bass Viol', 'SAT Chorus',\n",
       "       'Post Horn', 'Piano; Piano',\n",
       "       'Dancer; Dancer; Dancer; Dancer; Dancer; Dancer; Dancer; Dancer; Dancer; Dancer; Dancer; Dancer; Dancer; Dancer; Dancer; Dancer; Dancer; Dancer; Dancer; Dancer; Choreographer; Dancer; Dancer; Dancer; Dancer; Dancer; Dancer; Dancer; Dancer; Dancer; Dancer; Dancer; Dancer; Dancer; Dancer; Dancer; Dancer; Dancer; Dancer; Dancer; Dancer; Dancer; Dancer; Dancer; Dancer; Dancer; Dancer; Dancer; Dancer; Dancer; Dancer; Dancer; Dancer; Dancer; Dancer; Dancer; Dancer; Dancer; Dancer; Dancer; Dancer; Dancer; Dancer; Scenic Design',\n",
       "       'Dancer; Choreographer',\n",
       "       'Dancer; Dancer; Dancer; Dancer; Dancer; Dancer; Dancer; Dancer; Dancer; Dancer; Dancer; Dancer; Dancer; Dancer; Dancer; Dancer; Dancer; Dancer; Dancer; Dancer; Dancer; Dancer; Dancer; Dancer; Dancer; Dancer; Dancer; Dancer; Dancer; Dancer',\n",
       "       'Dancer; Dancer; Choreographer; Choreographer',\n",
       "       'Dancer; Dancer; Dancer; Dancer; Dancer; Dancer; Dancer; Dancer; Dancer; Dancer; Dancer; Dancer; Dancer; Dancer; Dancer; Dancer; Dancer; Dancer; Dancer; Dancer; Dancer; Dancer; Dancer; Dancer; Dancer; Dancer; Dancer; Dancer; Dancer; Dancer; Dancer; Dancer; Dancer; Dancer; Dancer; Dancer; Dancer; Dancer; Dancer; Dancer; Dancer; Dancer; Dancer; Dancer; Dancer; Dancer; Dancer; Dancer; Dancer; Dancer; Dancer; Dancer; Dancer; Choreographer; Dancer; Dancer',\n",
       "       'Basset Horn', 'Contrabass Clarinet', 'Lute', 'Accordion',\n",
       "       'Drummers and Dancers', 'Costume Designer', 'Folk Group',\n",
       "       'Actor and Dancer', 'TTB Chorus', 'Saxophone', 'Violin 1',\n",
       "       'Guitar', 'Bagpipes', 'Jazz Ensemble', 'Harmonica', 'Singer',\n",
       "       'Chorus ad Lib', 'Daire', 'Duo Pianos', 'Pianino', 'Marimba',\n",
       "       'Host', 'Ondes Martenot', 'Mime', 'Jazz Sextet', 'Boy Soprano',\n",
       "       'Bell Ringers', 'Commentator', 'Magician', 'Guest Orchestra',\n",
       "       'Mandolin', 'Female Voice', 'Male Voice', 'Jazz Combo',\n",
       "       'Balladeer', 'Marionettes', 'Koto', 'Recorder', 'Cimbalom',\n",
       "       'Jazz Quartet', 'Countertenor', 'Zither', \"Girl's Choir\",\n",
       "       'Jazz Piano', 'Alto Saxophone', 'Ensemble, Featured',\n",
       "       'Brass Quintet', 'Band', 'Vibraphone', 'Jazz Trio', 'Jazz Bass',\n",
       "       'Baritone Saxophone', 'Tenor Saxophone', 'Alto Recorder',\n",
       "       'Treble Cornetto', 'Alto Trombone', 'Tenor Trombone',\n",
       "       'Bass Trombone', 'Treble Shawm', 'Alto Shawm', 'Tenor Shawm',\n",
       "       'Tape Recorder', 'Kazoo', 'Jazz Quintet', 'Drum Set',\n",
       "       'Glockenspiel', 'Chamber Orchestra', 'Visuals', 'Woodwind Quintet',\n",
       "       'Tarabuka', 'Oud', 'Biwa', 'Shakuhachi', 'Blues Band',\n",
       "       'Electric Piano', 'Electric Guitar',\n",
       "       'Electric 6-String Bass Guitar', 'Mixed Chorus', 'Female Speaker',\n",
       "       'Male Speaker', 'Concertina', 'Electronic Ensemble', 'Drone',\n",
       "       'Electric Organ', 'Alto Flute', 'Tom Tom', 'Flute/Piccolo',\n",
       "       'Celeste', 'Tenor Tuba', \"Oboe d'amore, English Horn\",\n",
       "       'Saxophone Quartet', 'Sitar', 'Soprano Clarinet', 'Computers',\n",
       "       'Live Signal Processing', 'Soprano Saxophone', 'Zoomoo',\n",
       "       'SAL-MAR Construction', 'Percussion Ensemble', 'Chenda',\n",
       "       'Maddalam', 'Kombu', 'Thimila', 'Thalam', 'Tabla', 'Bongo Drums',\n",
       "       'Ghatam', 'Mridangam', 'Tambura', 'Sound Engineer', 'Electronics',\n",
       "       'Live Tape Processing', 'Synthesizer', 'Bicycle', 'Balloons',\n",
       "       'Vibraharp', 'Snare Drum', 'Prepared Piano', 'Euphonium',\n",
       "       'Clapping and Vocals', 'Keyboard', 'Accoustic Bass',\n",
       "       'Electric Bass', 'Electronic Keyboard', 'Klezmer Band',\n",
       "       'Child Soprano', 'Alto Clarinet', 'Director', 'Vocals, Percussion',\n",
       "       'Persian Kamancheh', 'Ney', 'Santur', 'Sound Design', 'Banjo',\n",
       "       'Audio Engineer', 'Pipa', 'Sheng', 'Stage Director',\n",
       "       'Vocal preparation', 'Theatrical casting', 'Sho', 'Designer',\n",
       "       'Theatre Company', 'Stage Manager', 'Video Operator', 'Actress',\n",
       "       'Puppeteer', 'Technical Director, Co-Designer, and Puppeteer',\n",
       "       'Film Dance Visualist', 'Casting Director', 'Guest Composer',\n",
       "       'Assistant Director', 'Producer', 'Toys', 'Author',\n",
       "       'Production Design', 'Executive Producer', 'Guest Speaker',\n",
       "       'Speaker, Female', 'Speaker, Male', 'Trombone/Baritone',\n",
       "       'Piano Resonance', 'Chinese Flute', 'Male soprano', 'Videographer',\n",
       "       'Bailaora [Flamenco Dancer]', 'Bass Guitar', 'Piano, four hands',\n",
       "       'Host/Commentator', 'Director and Designer',\n",
       "       'Production created by', 'Atmosphericist', 'Lighting Designer',\n",
       "       'Special Guest', 'Video Artist', 'Writer/Narrator', 'Trap Set',\n",
       "       'Director and Producer', 'Scenic Design', 'Make-Up Design',\n",
       "       'Haegum', 'Komungo', 'Chansonnier', 'Dizi [Bamboo flute]',\n",
       "       'MIDI Flute', 'Assistant Conductor', 'Oboe / English Horn',\n",
       "       'Harmonium/Celeste', 'Virginal', 'Flamenco Guitar',\n",
       "       'Flamenco Dancer', 'Hyper-Accordion', 'Flute/Alto Flute', 'Djembe',\n",
       "       'Dobro', 'Production Supervisor', 'Guitar Quartet',\n",
       "       'Clarinet/Bass Clarinet', 'Illustrator', 'Theorbo', 'Steel pan',\n",
       "       'Amplified Violin', 'Flute/Alto Flute/Piccolo', 'Gaita', 'Suona',\n",
       "       'Ghijak', 'Storywriter', 'Sopranino/Tenor Saxophne', 'Voice',\n",
       "       'Sousaphone', 'Bass Drum', 'Associate Set Design',\n",
       "       'Movement Director', 'Bass Clarinet/Tenor Saxophone',\n",
       "       'Live Electronics', 'Flute/Piccolo/Bass flute',\n",
       "       'Gaita [Galician Bagpipes]'], dtype=object)"
      ]
     },
     "execution_count": 7,
     "metadata": {},
     "output_type": "execute_result"
    }
   ],
   "source": [
    "#Notamos que hay valores en la columna 'soloistInstrument' estan los valores ' ',\n",
    "# 'Piano; Piano', 'Dancer;...', entonces vamos a eliminarlos \n",
    "ny_phil['soloistInstrument'].unique()"
   ]
  },
  {
   "cell_type": "code",
   "execution_count": 8,
   "metadata": {},
   "outputs": [],
   "source": [
    "errors = [' ', 'Piano; Piano', 'Dancer; Dancer; Dancer; Dancer; Dancer; Dancer; Dancer; Dancer; Dancer; Dancer; Dancer; Dancer; Dancer; Dancer; Dancer; Dancer; Dancer; Dancer; Dancer; Dancer; Choreographer; Dancer; Dancer; Dancer; Dancer; Dancer; Dancer; Dancer; Dancer; Dancer; Dancer; Dancer; Dancer; Dancer; Dancer; Dancer; Dancer; Dancer; Dancer; Dancer; Dancer; Dancer; Dancer; Dancer; Dancer; Dancer; Dancer; Dancer; Dancer; Dancer; Dancer; Dancer; Dancer; Dancer; Dancer; Dancer; Dancer; Dancer; Dancer; Dancer; Dancer; Dancer; Dancer; Scenic Design',\n",
    "       'Dancer; Choreographer',\n",
    "       'Dancer; Dancer; Dancer; Dancer; Dancer; Dancer; Dancer; Dancer; Dancer; Dancer; Dancer; Dancer; Dancer; Dancer; Dancer; Dancer; Dancer; Dancer; Dancer; Dancer; Dancer; Dancer; Dancer; Dancer; Dancer; Dancer; Dancer; Dancer; Dancer; Dancer',\n",
    "       'Dancer; Dancer; Choreographer; Choreographer',\n",
    "       'Dancer; Dancer; Dancer; Dancer; Dancer; Dancer; Dancer; Dancer; Dancer; Dancer; Dancer; Dancer; Dancer; Dancer; Dancer; Dancer; Dancer; Dancer; Dancer; Dancer; Dancer; Dancer; Dancer; Dancer; Dancer; Dancer; Dancer; Dancer; Dancer; Dancer; Dancer; Dancer; Dancer; Dancer; Dancer; Dancer; Dancer; Dancer; Dancer; Dancer; Dancer; Dancer; Dancer; Dancer; Dancer; Dancer; Dancer; Dancer; Dancer; Dancer; Dancer; Dancer; Dancer; Choreographer; Dancer; Dancer']\n",
    "\n",
    "ny_phil = ny_phil[~ny_phil['soloistInstrument'].isin(errors)]"
   ]
  },
  {
   "cell_type": "markdown",
   "metadata": {},
   "source": [
    "## Transformamos las columnas"
   ]
  },
  {
   "cell_type": "code",
   "execution_count": 9,
   "metadata": {},
   "outputs": [
    {
     "data": {
      "text/html": [
       "<div>\n",
       "<style scoped>\n",
       "    .dataframe tbody tr th:only-of-type {\n",
       "        vertical-align: middle;\n",
       "    }\n",
       "\n",
       "    .dataframe tbody tr th {\n",
       "        vertical-align: top;\n",
       "    }\n",
       "\n",
       "    .dataframe thead th {\n",
       "        text-align: right;\n",
       "    }\n",
       "</style>\n",
       "<table border=\"1\" class=\"dataframe\">\n",
       "  <thead>\n",
       "    <tr style=\"text-align: right;\">\n",
       "      <th></th>\n",
       "      <th>Date</th>\n",
       "      <th>Location</th>\n",
       "      <th>Time</th>\n",
       "      <th>Venue</th>\n",
       "      <th>eventType</th>\n",
       "      <th>id</th>\n",
       "      <th>composerName</th>\n",
       "      <th>conductorName</th>\n",
       "      <th>movement</th>\n",
       "      <th>workTitle</th>\n",
       "      <th>soloistInstrument</th>\n",
       "      <th>soloistName</th>\n",
       "      <th>soloistRoles</th>\n",
       "      <th>season</th>\n",
       "      <th>programID</th>\n",
       "      <th>orchestra</th>\n",
       "      <th>State</th>\n",
       "    </tr>\n",
       "  </thead>\n",
       "  <tbody>\n",
       "    <tr>\n",
       "      <th>0</th>\n",
       "      <td>1842-12-07T05:00:00Z</td>\n",
       "      <td>Manhattan</td>\n",
       "      <td>8:00PM</td>\n",
       "      <td>Apollo Rooms</td>\n",
       "      <td>Subscription Season</td>\n",
       "      <td>38e072a7-8fc9-4f9a-8eac-3957905c0002</td>\n",
       "      <td>Beethoven,  Ludwig  van</td>\n",
       "      <td>Hill, Ureli Corelli</td>\n",
       "      <td>0</td>\n",
       "      <td>SYMPHONY NO. 5 IN C MINOR, OP.67</td>\n",
       "      <td>Soprano</td>\n",
       "      <td>Otto, Antoinette</td>\n",
       "      <td>S</td>\n",
       "      <td>1842-43</td>\n",
       "      <td>3853.0</td>\n",
       "      <td>New York Philharmonic</td>\n",
       "      <td>NY</td>\n",
       "    </tr>\n",
       "    <tr>\n",
       "      <th>1</th>\n",
       "      <td>1842-12-07T05:00:00Z</td>\n",
       "      <td>Manhattan</td>\n",
       "      <td>8:00PM</td>\n",
       "      <td>Apollo Rooms</td>\n",
       "      <td>Subscription Season</td>\n",
       "      <td>38e072a7-8fc9-4f9a-8eac-3957905c0002</td>\n",
       "      <td>Beethoven,  Ludwig  van</td>\n",
       "      <td>Hill, Ureli Corelli</td>\n",
       "      <td>0</td>\n",
       "      <td>SYMPHONY NO. 5 IN C MINOR, OP.67</td>\n",
       "      <td>Piano</td>\n",
       "      <td>Scharfenberg, William</td>\n",
       "      <td>A</td>\n",
       "      <td>1842-43</td>\n",
       "      <td>3853.0</td>\n",
       "      <td>New York Philharmonic</td>\n",
       "      <td>NY</td>\n",
       "    </tr>\n",
       "  </tbody>\n",
       "</table>\n",
       "</div>"
      ],
      "text/plain": [
       "                   Date   Location    Time         Venue            eventType  \\\n",
       "0  1842-12-07T05:00:00Z  Manhattan  8:00PM  Apollo Rooms  Subscription Season   \n",
       "1  1842-12-07T05:00:00Z  Manhattan  8:00PM  Apollo Rooms  Subscription Season   \n",
       "\n",
       "                                     id             composerName  \\\n",
       "0  38e072a7-8fc9-4f9a-8eac-3957905c0002  Beethoven,  Ludwig  van   \n",
       "1  38e072a7-8fc9-4f9a-8eac-3957905c0002  Beethoven,  Ludwig  van   \n",
       "\n",
       "         conductorName movement                         workTitle  \\\n",
       "0  Hill, Ureli Corelli        0  SYMPHONY NO. 5 IN C MINOR, OP.67   \n",
       "1  Hill, Ureli Corelli        0  SYMPHONY NO. 5 IN C MINOR, OP.67   \n",
       "\n",
       "  soloistInstrument            soloistName soloistRoles   season  programID  \\\n",
       "0           Soprano       Otto, Antoinette            S  1842-43     3853.0   \n",
       "1             Piano  Scharfenberg, William            A  1842-43     3853.0   \n",
       "\n",
       "               orchestra State  \n",
       "0  New York Philharmonic    NY  \n",
       "1  New York Philharmonic    NY  "
      ]
     },
     "execution_count": 9,
     "metadata": {},
     "output_type": "execute_result"
    }
   ],
   "source": [
    "#Separamos el Estado de Location\n",
    "state = ny_phil['Location'].str.split(', ', expand = True)\n",
    "ny_phil['Location'] = state[0]\n",
    "ny_phil['State'] = state[1]\n",
    "ny_phil.head(2)"
   ]
  },
  {
   "cell_type": "code",
   "execution_count": 10,
   "metadata": {},
   "outputs": [
    {
     "data": {
      "text/html": [
       "<div>\n",
       "<style scoped>\n",
       "    .dataframe tbody tr th:only-of-type {\n",
       "        vertical-align: middle;\n",
       "    }\n",
       "\n",
       "    .dataframe tbody tr th {\n",
       "        vertical-align: top;\n",
       "    }\n",
       "\n",
       "    .dataframe thead th {\n",
       "        text-align: right;\n",
       "    }\n",
       "</style>\n",
       "<table border=\"1\" class=\"dataframe\">\n",
       "  <thead>\n",
       "    <tr style=\"text-align: right;\">\n",
       "      <th></th>\n",
       "      <th>Date</th>\n",
       "      <th>Location</th>\n",
       "      <th>Time</th>\n",
       "      <th>Venue</th>\n",
       "      <th>eventType</th>\n",
       "      <th>id</th>\n",
       "      <th>composerName</th>\n",
       "      <th>conductorName</th>\n",
       "      <th>movement</th>\n",
       "      <th>workTitle</th>\n",
       "      <th>soloistInstrument</th>\n",
       "      <th>soloistName</th>\n",
       "      <th>soloistRoles</th>\n",
       "      <th>season</th>\n",
       "      <th>programID</th>\n",
       "      <th>orchestra</th>\n",
       "      <th>State</th>\n",
       "    </tr>\n",
       "  </thead>\n",
       "  <tbody>\n",
       "    <tr>\n",
       "      <th>0</th>\n",
       "      <td>1842-12-07</td>\n",
       "      <td>Manhattan</td>\n",
       "      <td>8:00PM</td>\n",
       "      <td>Apollo Rooms</td>\n",
       "      <td>Subscription Season</td>\n",
       "      <td>38e072a7-8fc9-4f9a-8eac-3957905c0002</td>\n",
       "      <td>Beethoven,  Ludwig  van</td>\n",
       "      <td>Hill, Ureli Corelli</td>\n",
       "      <td>0</td>\n",
       "      <td>SYMPHONY NO. 5 IN C MINOR, OP.67</td>\n",
       "      <td>Soprano</td>\n",
       "      <td>Otto, Antoinette</td>\n",
       "      <td>S</td>\n",
       "      <td>1842-43</td>\n",
       "      <td>3853.0</td>\n",
       "      <td>New York Philharmonic</td>\n",
       "      <td>NY</td>\n",
       "    </tr>\n",
       "    <tr>\n",
       "      <th>1</th>\n",
       "      <td>1842-12-07</td>\n",
       "      <td>Manhattan</td>\n",
       "      <td>8:00PM</td>\n",
       "      <td>Apollo Rooms</td>\n",
       "      <td>Subscription Season</td>\n",
       "      <td>38e072a7-8fc9-4f9a-8eac-3957905c0002</td>\n",
       "      <td>Beethoven,  Ludwig  van</td>\n",
       "      <td>Hill, Ureli Corelli</td>\n",
       "      <td>0</td>\n",
       "      <td>SYMPHONY NO. 5 IN C MINOR, OP.67</td>\n",
       "      <td>Piano</td>\n",
       "      <td>Scharfenberg, William</td>\n",
       "      <td>A</td>\n",
       "      <td>1842-43</td>\n",
       "      <td>3853.0</td>\n",
       "      <td>New York Philharmonic</td>\n",
       "      <td>NY</td>\n",
       "    </tr>\n",
       "  </tbody>\n",
       "</table>\n",
       "</div>"
      ],
      "text/plain": [
       "         Date   Location    Time         Venue            eventType  \\\n",
       "0  1842-12-07  Manhattan  8:00PM  Apollo Rooms  Subscription Season   \n",
       "1  1842-12-07  Manhattan  8:00PM  Apollo Rooms  Subscription Season   \n",
       "\n",
       "                                     id             composerName  \\\n",
       "0  38e072a7-8fc9-4f9a-8eac-3957905c0002  Beethoven,  Ludwig  van   \n",
       "1  38e072a7-8fc9-4f9a-8eac-3957905c0002  Beethoven,  Ludwig  van   \n",
       "\n",
       "         conductorName movement                         workTitle  \\\n",
       "0  Hill, Ureli Corelli        0  SYMPHONY NO. 5 IN C MINOR, OP.67   \n",
       "1  Hill, Ureli Corelli        0  SYMPHONY NO. 5 IN C MINOR, OP.67   \n",
       "\n",
       "  soloistInstrument            soloistName soloistRoles   season  programID  \\\n",
       "0           Soprano       Otto, Antoinette            S  1842-43     3853.0   \n",
       "1             Piano  Scharfenberg, William            A  1842-43     3853.0   \n",
       "\n",
       "               orchestra State  \n",
       "0  New York Philharmonic    NY  \n",
       "1  New York Philharmonic    NY  "
      ]
     },
     "execution_count": 10,
     "metadata": {},
     "output_type": "execute_result"
    }
   ],
   "source": [
    "ny_phil['Date'] =  ny_phil['Date'].str.split('T', expand = True)[0]\n",
    "ny_phil.head(2)"
   ]
  },
  {
   "cell_type": "code",
   "execution_count": 11,
   "metadata": {},
   "outputs": [
    {
     "data": {
      "text/html": [
       "<div>\n",
       "<style scoped>\n",
       "    .dataframe tbody tr th:only-of-type {\n",
       "        vertical-align: middle;\n",
       "    }\n",
       "\n",
       "    .dataframe tbody tr th {\n",
       "        vertical-align: top;\n",
       "    }\n",
       "\n",
       "    .dataframe thead th {\n",
       "        text-align: right;\n",
       "    }\n",
       "</style>\n",
       "<table border=\"1\" class=\"dataframe\">\n",
       "  <thead>\n",
       "    <tr style=\"text-align: right;\">\n",
       "      <th></th>\n",
       "      <th>Date</th>\n",
       "      <th>Location</th>\n",
       "      <th>Time</th>\n",
       "      <th>Venue</th>\n",
       "      <th>Eventtype</th>\n",
       "      <th>Id</th>\n",
       "      <th>Composername</th>\n",
       "      <th>Conductorname</th>\n",
       "      <th>Movement</th>\n",
       "      <th>Worktitle</th>\n",
       "      <th>Soloistinstrument</th>\n",
       "      <th>Soloistname</th>\n",
       "      <th>Soloistroles</th>\n",
       "      <th>Season</th>\n",
       "      <th>Programid</th>\n",
       "      <th>Orchestra</th>\n",
       "      <th>State</th>\n",
       "    </tr>\n",
       "  </thead>\n",
       "  <tbody>\n",
       "    <tr>\n",
       "      <th>0</th>\n",
       "      <td>1842-12-07</td>\n",
       "      <td>Manhattan</td>\n",
       "      <td>8:00PM</td>\n",
       "      <td>Apollo Rooms</td>\n",
       "      <td>Subscription Season</td>\n",
       "      <td>38e072a7-8fc9-4f9a-8eac-3957905c0002</td>\n",
       "      <td>Beethoven,  Ludwig  van</td>\n",
       "      <td>Hill, Ureli Corelli</td>\n",
       "      <td>0</td>\n",
       "      <td>SYMPHONY NO. 5 IN C MINOR, OP.67</td>\n",
       "      <td>Soprano</td>\n",
       "      <td>Otto, Antoinette</td>\n",
       "      <td>S</td>\n",
       "      <td>1842-43</td>\n",
       "      <td>3853.0</td>\n",
       "      <td>New York Philharmonic</td>\n",
       "      <td>NY</td>\n",
       "    </tr>\n",
       "    <tr>\n",
       "      <th>1</th>\n",
       "      <td>1842-12-07</td>\n",
       "      <td>Manhattan</td>\n",
       "      <td>8:00PM</td>\n",
       "      <td>Apollo Rooms</td>\n",
       "      <td>Subscription Season</td>\n",
       "      <td>38e072a7-8fc9-4f9a-8eac-3957905c0002</td>\n",
       "      <td>Beethoven,  Ludwig  van</td>\n",
       "      <td>Hill, Ureli Corelli</td>\n",
       "      <td>0</td>\n",
       "      <td>SYMPHONY NO. 5 IN C MINOR, OP.67</td>\n",
       "      <td>Piano</td>\n",
       "      <td>Scharfenberg, William</td>\n",
       "      <td>A</td>\n",
       "      <td>1842-43</td>\n",
       "      <td>3853.0</td>\n",
       "      <td>New York Philharmonic</td>\n",
       "      <td>NY</td>\n",
       "    </tr>\n",
       "  </tbody>\n",
       "</table>\n",
       "</div>"
      ],
      "text/plain": [
       "         Date   Location    Time         Venue            Eventtype  \\\n",
       "0  1842-12-07  Manhattan  8:00PM  Apollo Rooms  Subscription Season   \n",
       "1  1842-12-07  Manhattan  8:00PM  Apollo Rooms  Subscription Season   \n",
       "\n",
       "                                     Id             Composername  \\\n",
       "0  38e072a7-8fc9-4f9a-8eac-3957905c0002  Beethoven,  Ludwig  van   \n",
       "1  38e072a7-8fc9-4f9a-8eac-3957905c0002  Beethoven,  Ludwig  van   \n",
       "\n",
       "         Conductorname Movement                         Worktitle  \\\n",
       "0  Hill, Ureli Corelli        0  SYMPHONY NO. 5 IN C MINOR, OP.67   \n",
       "1  Hill, Ureli Corelli        0  SYMPHONY NO. 5 IN C MINOR, OP.67   \n",
       "\n",
       "  Soloistinstrument            Soloistname Soloistroles   Season  Programid  \\\n",
       "0           Soprano       Otto, Antoinette            S  1842-43     3853.0   \n",
       "1             Piano  Scharfenberg, William            A  1842-43     3853.0   \n",
       "\n",
       "               Orchestra State  \n",
       "0  New York Philharmonic    NY  \n",
       "1  New York Philharmonic    NY  "
      ]
     },
     "execution_count": 11,
     "metadata": {},
     "output_type": "execute_result"
    }
   ],
   "source": [
    "ny_phil.columns = ny_phil.columns.str.capitalize()\n",
    "ny_phil.head(2)"
   ]
  },
  {
   "cell_type": "code",
   "execution_count": 12,
   "metadata": {},
   "outputs": [
    {
     "data": {
      "text/html": [
       "<div>\n",
       "<style scoped>\n",
       "    .dataframe tbody tr th:only-of-type {\n",
       "        vertical-align: middle;\n",
       "    }\n",
       "\n",
       "    .dataframe tbody tr th {\n",
       "        vertical-align: top;\n",
       "    }\n",
       "\n",
       "    .dataframe thead th {\n",
       "        text-align: right;\n",
       "    }\n",
       "</style>\n",
       "<table border=\"1\" class=\"dataframe\">\n",
       "  <thead>\n",
       "    <tr style=\"text-align: right;\">\n",
       "      <th></th>\n",
       "      <th>Location</th>\n",
       "      <th>Time</th>\n",
       "      <th>Venue</th>\n",
       "      <th>Eventtype</th>\n",
       "      <th>Id</th>\n",
       "      <th>Composername</th>\n",
       "      <th>Conductorname</th>\n",
       "      <th>Movement</th>\n",
       "      <th>Worktitle</th>\n",
       "      <th>Soloistinstrument</th>\n",
       "      <th>Soloistname</th>\n",
       "      <th>Soloistroles</th>\n",
       "      <th>Season</th>\n",
       "      <th>Programid</th>\n",
       "      <th>Orchestra</th>\n",
       "      <th>State</th>\n",
       "    </tr>\n",
       "    <tr>\n",
       "      <th>Date</th>\n",
       "      <th></th>\n",
       "      <th></th>\n",
       "      <th></th>\n",
       "      <th></th>\n",
       "      <th></th>\n",
       "      <th></th>\n",
       "      <th></th>\n",
       "      <th></th>\n",
       "      <th></th>\n",
       "      <th></th>\n",
       "      <th></th>\n",
       "      <th></th>\n",
       "      <th></th>\n",
       "      <th></th>\n",
       "      <th></th>\n",
       "      <th></th>\n",
       "    </tr>\n",
       "  </thead>\n",
       "  <tbody>\n",
       "    <tr>\n",
       "      <th>1842-12-07</th>\n",
       "      <td>Manhattan</td>\n",
       "      <td>8:00PM</td>\n",
       "      <td>Apollo Rooms</td>\n",
       "      <td>Subscription Season</td>\n",
       "      <td>38e072a7-8fc9-4f9a-8eac-3957905c0002</td>\n",
       "      <td>Beethoven,  Ludwig  van</td>\n",
       "      <td>Hill, Ureli Corelli</td>\n",
       "      <td>0</td>\n",
       "      <td>SYMPHONY NO. 5 IN C MINOR, OP.67</td>\n",
       "      <td>Soprano</td>\n",
       "      <td>Otto, Antoinette</td>\n",
       "      <td>S</td>\n",
       "      <td>1842-43</td>\n",
       "      <td>3853.0</td>\n",
       "      <td>New York Philharmonic</td>\n",
       "      <td>NY</td>\n",
       "    </tr>\n",
       "    <tr>\n",
       "      <th>1842-12-07</th>\n",
       "      <td>Manhattan</td>\n",
       "      <td>8:00PM</td>\n",
       "      <td>Apollo Rooms</td>\n",
       "      <td>Subscription Season</td>\n",
       "      <td>38e072a7-8fc9-4f9a-8eac-3957905c0002</td>\n",
       "      <td>Beethoven,  Ludwig  van</td>\n",
       "      <td>Hill, Ureli Corelli</td>\n",
       "      <td>0</td>\n",
       "      <td>SYMPHONY NO. 5 IN C MINOR, OP.67</td>\n",
       "      <td>Piano</td>\n",
       "      <td>Scharfenberg, William</td>\n",
       "      <td>A</td>\n",
       "      <td>1842-43</td>\n",
       "      <td>3853.0</td>\n",
       "      <td>New York Philharmonic</td>\n",
       "      <td>NY</td>\n",
       "    </tr>\n",
       "  </tbody>\n",
       "</table>\n",
       "</div>"
      ],
      "text/plain": [
       "             Location    Time         Venue            Eventtype  \\\n",
       "Date                                                               \n",
       "1842-12-07  Manhattan  8:00PM  Apollo Rooms  Subscription Season   \n",
       "1842-12-07  Manhattan  8:00PM  Apollo Rooms  Subscription Season   \n",
       "\n",
       "                                              Id             Composername  \\\n",
       "Date                                                                        \n",
       "1842-12-07  38e072a7-8fc9-4f9a-8eac-3957905c0002  Beethoven,  Ludwig  van   \n",
       "1842-12-07  38e072a7-8fc9-4f9a-8eac-3957905c0002  Beethoven,  Ludwig  van   \n",
       "\n",
       "                  Conductorname Movement                         Worktitle  \\\n",
       "Date                                                                         \n",
       "1842-12-07  Hill, Ureli Corelli        0  SYMPHONY NO. 5 IN C MINOR, OP.67   \n",
       "1842-12-07  Hill, Ureli Corelli        0  SYMPHONY NO. 5 IN C MINOR, OP.67   \n",
       "\n",
       "           Soloistinstrument            Soloistname Soloistroles   Season  \\\n",
       "Date                                                                        \n",
       "1842-12-07           Soprano       Otto, Antoinette            S  1842-43   \n",
       "1842-12-07             Piano  Scharfenberg, William            A  1842-43   \n",
       "\n",
       "            Programid              Orchestra State  \n",
       "Date                                                \n",
       "1842-12-07     3853.0  New York Philharmonic    NY  \n",
       "1842-12-07     3853.0  New York Philharmonic    NY  "
      ]
     },
     "execution_count": 12,
     "metadata": {},
     "output_type": "execute_result"
    }
   ],
   "source": [
    "#Pasamos a datetime\n",
    "categories = ['Location', 'Venue', 'Eventtype', 'Composername', 'Conductorname', 'Soloistinstrument', 'Soloistname', 'Season', 'Orchestra']\n",
    "ny_phil[categories] = ny_phil[categories].astype('category') \n",
    "\n",
    "#Indicamos el indice\n",
    "ny_phil.index = ny_phil['Date']\n",
    "ny_phil.drop('Date', axis = 1, inplace = True)\n",
    "ny_phil.head(2)"
   ]
  },
  {
   "cell_type": "markdown",
   "metadata": {},
   "source": [
    "# Compositores más tocados"
   ]
  },
  {
   "cell_type": "code",
   "execution_count": 44,
   "metadata": {},
   "outputs": [
    {
     "data": {
      "application/vnd.plotly.v1+json": {
       "config": {
        "plotlyServerURL": "https://plot.ly"
       },
       "data": [
        {
         "alignmentgroup": "True",
         "hovertemplate": "Compositor=%{x}<br>Acumulado=%{y}<extra></extra>",
         "legendgroup": "",
         "marker": {
          "color": "#636efa",
          "pattern": {
           "shape": ""
          }
         },
         "name": "",
         "offsetgroup": "",
         "orientation": "v",
         "showlegend": false,
         "textposition": "auto",
         "type": "bar",
         "x": [
          "Handel,  George  Frideric",
          "Tchaikovsky,  Pyotr  Ilyich",
          "Rodgers,  Richard",
          "Gershwin,  George",
          "Beethoven,  Ludwig  van",
          "Wagner,  Richard",
          "Mozart,  Wolfgang  Amadeus",
          "Bach,  Johann  Sebastian",
          "Brahms,  Johannes",
          "Offenbach,  Jacques",
          "Mendelssohn,  Felix",
          "Debussy,  Claude",
          "Schubert,  Franz",
          "Verdi,  Giuseppe",
          "Bernstein,  Leonard",
          "Chopin,  Frédéric",
          "Strauss,  Johann, II",
          "Bizet,  Georges",
          "Saint-Saens [Saint-Saëns],  Camille",
          "Weill,  Kurt"
         ],
         "xaxis": "x",
         "y": [
          107034,
          19402,
          18285,
          18276,
          17986,
          16590,
          16009,
          13761,
          10062,
          8662,
          8168,
          8052,
          7922,
          7035,
          6856,
          6838,
          6740,
          6411,
          6383,
          6334
         ],
         "yaxis": "y"
        }
       ],
       "layout": {
        "barmode": "relative",
        "legend": {
         "tracegroupgap": 0
        },
        "template": {
         "data": {
          "bar": [
           {
            "error_x": {
             "color": "#2a3f5f"
            },
            "error_y": {
             "color": "#2a3f5f"
            },
            "marker": {
             "line": {
              "color": "#E5ECF6",
              "width": 0.5
             },
             "pattern": {
              "fillmode": "overlay",
              "size": 10,
              "solidity": 0.2
             }
            },
            "type": "bar"
           }
          ],
          "barpolar": [
           {
            "marker": {
             "line": {
              "color": "#E5ECF6",
              "width": 0.5
             },
             "pattern": {
              "fillmode": "overlay",
              "size": 10,
              "solidity": 0.2
             }
            },
            "type": "barpolar"
           }
          ],
          "carpet": [
           {
            "aaxis": {
             "endlinecolor": "#2a3f5f",
             "gridcolor": "white",
             "linecolor": "white",
             "minorgridcolor": "white",
             "startlinecolor": "#2a3f5f"
            },
            "baxis": {
             "endlinecolor": "#2a3f5f",
             "gridcolor": "white",
             "linecolor": "white",
             "minorgridcolor": "white",
             "startlinecolor": "#2a3f5f"
            },
            "type": "carpet"
           }
          ],
          "choropleth": [
           {
            "colorbar": {
             "outlinewidth": 0,
             "ticks": ""
            },
            "type": "choropleth"
           }
          ],
          "contour": [
           {
            "colorbar": {
             "outlinewidth": 0,
             "ticks": ""
            },
            "colorscale": [
             [
              0,
              "#0d0887"
             ],
             [
              0.1111111111111111,
              "#46039f"
             ],
             [
              0.2222222222222222,
              "#7201a8"
             ],
             [
              0.3333333333333333,
              "#9c179e"
             ],
             [
              0.4444444444444444,
              "#bd3786"
             ],
             [
              0.5555555555555556,
              "#d8576b"
             ],
             [
              0.6666666666666666,
              "#ed7953"
             ],
             [
              0.7777777777777778,
              "#fb9f3a"
             ],
             [
              0.8888888888888888,
              "#fdca26"
             ],
             [
              1,
              "#f0f921"
             ]
            ],
            "type": "contour"
           }
          ],
          "contourcarpet": [
           {
            "colorbar": {
             "outlinewidth": 0,
             "ticks": ""
            },
            "type": "contourcarpet"
           }
          ],
          "heatmap": [
           {
            "colorbar": {
             "outlinewidth": 0,
             "ticks": ""
            },
            "colorscale": [
             [
              0,
              "#0d0887"
             ],
             [
              0.1111111111111111,
              "#46039f"
             ],
             [
              0.2222222222222222,
              "#7201a8"
             ],
             [
              0.3333333333333333,
              "#9c179e"
             ],
             [
              0.4444444444444444,
              "#bd3786"
             ],
             [
              0.5555555555555556,
              "#d8576b"
             ],
             [
              0.6666666666666666,
              "#ed7953"
             ],
             [
              0.7777777777777778,
              "#fb9f3a"
             ],
             [
              0.8888888888888888,
              "#fdca26"
             ],
             [
              1,
              "#f0f921"
             ]
            ],
            "type": "heatmap"
           }
          ],
          "heatmapgl": [
           {
            "colorbar": {
             "outlinewidth": 0,
             "ticks": ""
            },
            "colorscale": [
             [
              0,
              "#0d0887"
             ],
             [
              0.1111111111111111,
              "#46039f"
             ],
             [
              0.2222222222222222,
              "#7201a8"
             ],
             [
              0.3333333333333333,
              "#9c179e"
             ],
             [
              0.4444444444444444,
              "#bd3786"
             ],
             [
              0.5555555555555556,
              "#d8576b"
             ],
             [
              0.6666666666666666,
              "#ed7953"
             ],
             [
              0.7777777777777778,
              "#fb9f3a"
             ],
             [
              0.8888888888888888,
              "#fdca26"
             ],
             [
              1,
              "#f0f921"
             ]
            ],
            "type": "heatmapgl"
           }
          ],
          "histogram": [
           {
            "marker": {
             "pattern": {
              "fillmode": "overlay",
              "size": 10,
              "solidity": 0.2
             }
            },
            "type": "histogram"
           }
          ],
          "histogram2d": [
           {
            "colorbar": {
             "outlinewidth": 0,
             "ticks": ""
            },
            "colorscale": [
             [
              0,
              "#0d0887"
             ],
             [
              0.1111111111111111,
              "#46039f"
             ],
             [
              0.2222222222222222,
              "#7201a8"
             ],
             [
              0.3333333333333333,
              "#9c179e"
             ],
             [
              0.4444444444444444,
              "#bd3786"
             ],
             [
              0.5555555555555556,
              "#d8576b"
             ],
             [
              0.6666666666666666,
              "#ed7953"
             ],
             [
              0.7777777777777778,
              "#fb9f3a"
             ],
             [
              0.8888888888888888,
              "#fdca26"
             ],
             [
              1,
              "#f0f921"
             ]
            ],
            "type": "histogram2d"
           }
          ],
          "histogram2dcontour": [
           {
            "colorbar": {
             "outlinewidth": 0,
             "ticks": ""
            },
            "colorscale": [
             [
              0,
              "#0d0887"
             ],
             [
              0.1111111111111111,
              "#46039f"
             ],
             [
              0.2222222222222222,
              "#7201a8"
             ],
             [
              0.3333333333333333,
              "#9c179e"
             ],
             [
              0.4444444444444444,
              "#bd3786"
             ],
             [
              0.5555555555555556,
              "#d8576b"
             ],
             [
              0.6666666666666666,
              "#ed7953"
             ],
             [
              0.7777777777777778,
              "#fb9f3a"
             ],
             [
              0.8888888888888888,
              "#fdca26"
             ],
             [
              1,
              "#f0f921"
             ]
            ],
            "type": "histogram2dcontour"
           }
          ],
          "mesh3d": [
           {
            "colorbar": {
             "outlinewidth": 0,
             "ticks": ""
            },
            "type": "mesh3d"
           }
          ],
          "parcoords": [
           {
            "line": {
             "colorbar": {
              "outlinewidth": 0,
              "ticks": ""
             }
            },
            "type": "parcoords"
           }
          ],
          "pie": [
           {
            "automargin": true,
            "type": "pie"
           }
          ],
          "scatter": [
           {
            "marker": {
             "colorbar": {
              "outlinewidth": 0,
              "ticks": ""
             }
            },
            "type": "scatter"
           }
          ],
          "scatter3d": [
           {
            "line": {
             "colorbar": {
              "outlinewidth": 0,
              "ticks": ""
             }
            },
            "marker": {
             "colorbar": {
              "outlinewidth": 0,
              "ticks": ""
             }
            },
            "type": "scatter3d"
           }
          ],
          "scattercarpet": [
           {
            "marker": {
             "colorbar": {
              "outlinewidth": 0,
              "ticks": ""
             }
            },
            "type": "scattercarpet"
           }
          ],
          "scattergeo": [
           {
            "marker": {
             "colorbar": {
              "outlinewidth": 0,
              "ticks": ""
             }
            },
            "type": "scattergeo"
           }
          ],
          "scattergl": [
           {
            "marker": {
             "colorbar": {
              "outlinewidth": 0,
              "ticks": ""
             }
            },
            "type": "scattergl"
           }
          ],
          "scattermapbox": [
           {
            "marker": {
             "colorbar": {
              "outlinewidth": 0,
              "ticks": ""
             }
            },
            "type": "scattermapbox"
           }
          ],
          "scatterpolar": [
           {
            "marker": {
             "colorbar": {
              "outlinewidth": 0,
              "ticks": ""
             }
            },
            "type": "scatterpolar"
           }
          ],
          "scatterpolargl": [
           {
            "marker": {
             "colorbar": {
              "outlinewidth": 0,
              "ticks": ""
             }
            },
            "type": "scatterpolargl"
           }
          ],
          "scatterternary": [
           {
            "marker": {
             "colorbar": {
              "outlinewidth": 0,
              "ticks": ""
             }
            },
            "type": "scatterternary"
           }
          ],
          "surface": [
           {
            "colorbar": {
             "outlinewidth": 0,
             "ticks": ""
            },
            "colorscale": [
             [
              0,
              "#0d0887"
             ],
             [
              0.1111111111111111,
              "#46039f"
             ],
             [
              0.2222222222222222,
              "#7201a8"
             ],
             [
              0.3333333333333333,
              "#9c179e"
             ],
             [
              0.4444444444444444,
              "#bd3786"
             ],
             [
              0.5555555555555556,
              "#d8576b"
             ],
             [
              0.6666666666666666,
              "#ed7953"
             ],
             [
              0.7777777777777778,
              "#fb9f3a"
             ],
             [
              0.8888888888888888,
              "#fdca26"
             ],
             [
              1,
              "#f0f921"
             ]
            ],
            "type": "surface"
           }
          ],
          "table": [
           {
            "cells": {
             "fill": {
              "color": "#EBF0F8"
             },
             "line": {
              "color": "white"
             }
            },
            "header": {
             "fill": {
              "color": "#C8D4E3"
             },
             "line": {
              "color": "white"
             }
            },
            "type": "table"
           }
          ]
         },
         "layout": {
          "annotationdefaults": {
           "arrowcolor": "#2a3f5f",
           "arrowhead": 0,
           "arrowwidth": 1
          },
          "autotypenumbers": "strict",
          "coloraxis": {
           "colorbar": {
            "outlinewidth": 0,
            "ticks": ""
           }
          },
          "colorscale": {
           "diverging": [
            [
             0,
             "#8e0152"
            ],
            [
             0.1,
             "#c51b7d"
            ],
            [
             0.2,
             "#de77ae"
            ],
            [
             0.3,
             "#f1b6da"
            ],
            [
             0.4,
             "#fde0ef"
            ],
            [
             0.5,
             "#f7f7f7"
            ],
            [
             0.6,
             "#e6f5d0"
            ],
            [
             0.7,
             "#b8e186"
            ],
            [
             0.8,
             "#7fbc41"
            ],
            [
             0.9,
             "#4d9221"
            ],
            [
             1,
             "#276419"
            ]
           ],
           "sequential": [
            [
             0,
             "#0d0887"
            ],
            [
             0.1111111111111111,
             "#46039f"
            ],
            [
             0.2222222222222222,
             "#7201a8"
            ],
            [
             0.3333333333333333,
             "#9c179e"
            ],
            [
             0.4444444444444444,
             "#bd3786"
            ],
            [
             0.5555555555555556,
             "#d8576b"
            ],
            [
             0.6666666666666666,
             "#ed7953"
            ],
            [
             0.7777777777777778,
             "#fb9f3a"
            ],
            [
             0.8888888888888888,
             "#fdca26"
            ],
            [
             1,
             "#f0f921"
            ]
           ],
           "sequentialminus": [
            [
             0,
             "#0d0887"
            ],
            [
             0.1111111111111111,
             "#46039f"
            ],
            [
             0.2222222222222222,
             "#7201a8"
            ],
            [
             0.3333333333333333,
             "#9c179e"
            ],
            [
             0.4444444444444444,
             "#bd3786"
            ],
            [
             0.5555555555555556,
             "#d8576b"
            ],
            [
             0.6666666666666666,
             "#ed7953"
            ],
            [
             0.7777777777777778,
             "#fb9f3a"
            ],
            [
             0.8888888888888888,
             "#fdca26"
            ],
            [
             1,
             "#f0f921"
            ]
           ]
          },
          "colorway": [
           "#636efa",
           "#EF553B",
           "#00cc96",
           "#ab63fa",
           "#FFA15A",
           "#19d3f3",
           "#FF6692",
           "#B6E880",
           "#FF97FF",
           "#FECB52"
          ],
          "font": {
           "color": "#2a3f5f"
          },
          "geo": {
           "bgcolor": "white",
           "lakecolor": "white",
           "landcolor": "#E5ECF6",
           "showlakes": true,
           "showland": true,
           "subunitcolor": "white"
          },
          "hoverlabel": {
           "align": "left"
          },
          "hovermode": "closest",
          "mapbox": {
           "style": "light"
          },
          "paper_bgcolor": "white",
          "plot_bgcolor": "#E5ECF6",
          "polar": {
           "angularaxis": {
            "gridcolor": "white",
            "linecolor": "white",
            "ticks": ""
           },
           "bgcolor": "#E5ECF6",
           "radialaxis": {
            "gridcolor": "white",
            "linecolor": "white",
            "ticks": ""
           }
          },
          "scene": {
           "xaxis": {
            "backgroundcolor": "#E5ECF6",
            "gridcolor": "white",
            "gridwidth": 2,
            "linecolor": "white",
            "showbackground": true,
            "ticks": "",
            "zerolinecolor": "white"
           },
           "yaxis": {
            "backgroundcolor": "#E5ECF6",
            "gridcolor": "white",
            "gridwidth": 2,
            "linecolor": "white",
            "showbackground": true,
            "ticks": "",
            "zerolinecolor": "white"
           },
           "zaxis": {
            "backgroundcolor": "#E5ECF6",
            "gridcolor": "white",
            "gridwidth": 2,
            "linecolor": "white",
            "showbackground": true,
            "ticks": "",
            "zerolinecolor": "white"
           }
          },
          "shapedefaults": {
           "line": {
            "color": "#2a3f5f"
           }
          },
          "ternary": {
           "aaxis": {
            "gridcolor": "white",
            "linecolor": "white",
            "ticks": ""
           },
           "baxis": {
            "gridcolor": "white",
            "linecolor": "white",
            "ticks": ""
           },
           "bgcolor": "#E5ECF6",
           "caxis": {
            "gridcolor": "white",
            "linecolor": "white",
            "ticks": ""
           }
          },
          "title": {
           "x": 0.05
          },
          "xaxis": {
           "automargin": true,
           "gridcolor": "white",
           "linecolor": "white",
           "ticks": "",
           "title": {
            "standoff": 15
           },
           "zerolinecolor": "white",
           "zerolinewidth": 2
          },
          "yaxis": {
           "automargin": true,
           "gridcolor": "white",
           "linecolor": "white",
           "ticks": "",
           "title": {
            "standoff": 15
           },
           "zerolinecolor": "white",
           "zerolinewidth": 2
          }
         }
        },
        "title": {
         "text": "Compositores más tocados en la NY Philharmonic desde 1842"
        },
        "xaxis": {
         "anchor": "y",
         "categoryorder": "total descending",
         "domain": [
          0,
          1
         ],
         "title": {
          "text": "Compositor"
         }
        },
        "yaxis": {
         "anchor": "x",
         "domain": [
          0,
          1
         ],
         "title": {
          "text": "Acumulado"
         }
        }
       }
      }
     },
     "metadata": {},
     "output_type": "display_data"
    }
   ],
   "source": [
    "#eliminamos los registros de 'Unknown' y de 'Traditional,'\n",
    "compositores = ny_phil[~ny_phil['Composername'].isin(['Unknown', 'Traditional,'])]\n",
    "\n",
    "#Agrupamos por nombre del compositor y ordenamos\n",
    "compositores_top = compositores.groupby(by = 'Composername').count()\n",
    "compositores_top.sort_values('Location', ascending = False, inplace = True)\n",
    "compositores_top.reset_index(inplace = True)\n",
    "compositores_top = compositores_top[:20]\n",
    "\n",
    "#graficamos\n",
    "labels1 = {'Composername' : 'Compositor', 'Location' : 'Acumulado'}\n",
    "title1 = 'Compositores más tocados en la NY Philharmonic desde 1842'\n",
    "fig = px.bar(compositores_top, x = 'Composername', y = 'Location', title = title1, labels = labels1)\n",
    "fig.update_xaxes(categoryorder = 'total descending')\n",
    "fig.show()\n"
   ]
  },
  {
   "cell_type": "code",
   "execution_count": 35,
   "metadata": {},
   "outputs": [
    {
     "data": {
      "text/plain": [
       "Composername\n",
       "Bendel,  Franz                      1\n",
       "Phillips,  Burrill                  1\n",
       "Cowell,  Johnny                     1\n",
       "Kurka,  Robert                      1\n",
       "Bate,  Stanley                      1\n",
       "                                ...  \n",
       "Rodgers,  Richard               18285\n",
       "Tchaikovsky,  Pyotr  Ilyich     19402\n",
       "Traditional,                    33615\n",
       "Unknown                         64331\n",
       "Handel,  George  Frideric      107034\n",
       "Name: Location, Length: 2580, dtype: int64"
      ]
     },
     "execution_count": 35,
     "metadata": {},
     "output_type": "execute_result"
    }
   ],
   "source": [
    "ny_phil.groupby(by = 'Composername').count()"
   ]
  },
  {
   "cell_type": "code",
   "execution_count": 15,
   "metadata": {},
   "outputs": [],
   "source": [
    "# concerts.loc['2010':]"
   ]
  },
  {
   "cell_type": "code",
   "execution_count": null,
   "metadata": {},
   "outputs": [],
   "source": []
  }
 ],
 "metadata": {
  "kernelspec": {
   "display_name": "Python 3.8.3 ('base')",
   "language": "python",
   "name": "python3"
  },
  "language_info": {
   "codemirror_mode": {
    "name": "ipython",
    "version": 3
   },
   "file_extension": ".py",
   "mimetype": "text/x-python",
   "name": "python",
   "nbconvert_exporter": "python",
   "pygments_lexer": "ipython3",
   "version": "3.8.3"
  },
  "orig_nbformat": 4,
  "vscode": {
   "interpreter": {
    "hash": "91bb753b057673435fb8d6f6a083e6c818364728098c7ae050ca3a25357dd754"
   }
  }
 },
 "nbformat": 4,
 "nbformat_minor": 2
}
